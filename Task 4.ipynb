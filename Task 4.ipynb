{
 "cells": [
  {
   "cell_type": "code",
   "execution_count": 1,
   "id": "d6d40b52-7edb-4bab-b539-84de0c4d4b4f",
   "metadata": {
    "scrolled": true
   },
   "outputs": [
    {
     "ename": "SyntaxError",
     "evalue": "'(' was never closed (2310583182.py, line 7)",
     "output_type": "error",
     "traceback": [
      "\u001b[1;36m  Cell \u001b[1;32mIn[1], line 7\u001b[1;36m\u001b[0m\n\u001b[1;33m    value1 = str(input('What is a password..? ')\u001b[0m\n\u001b[1;37m                ^\u001b[0m\n\u001b[1;31mSyntaxError\u001b[0m\u001b[1;31m:\u001b[0m '(' was never closed\n"
     ]
    }
   ],
   "source": [
    "import re\n",
    "\n",
    "try:\n",
    "    print('Login')\n",
    "    value = input('What is a user..? ')\n",
    "    print(value)\n",
    "    value1 = str(input('What is a password..? ')\n",
    "    print(value1)\n",
    "    if research(r'[#$&@]', value1):\n",
    "        print('You are logged in')\n",
    "    else:\n",
    "        print('You need to log in with codes : #$&@')\n",
    "except ZreoDivisionError:\n",
    "    print('Another login day')\n",
    "value2=input('What kind of marketing vehicle do you need..? ')\n",
    "print(value2)\n",
    "value3=input('I need anything ' + value2)\n",
    "print(value3)\n",
    "print('Its price is 150 pounds ')\n",
    "print('How do I need to pay.? ')\n",
    "pay=input('1.online ' )\n",
    "pay2=input('2. offline ')\n",
    "print('The order has been reserved ')"
   ]
  },
  {
   "cell_type": "code",
   "execution_count": null,
   "id": "731dbf93-ba3b-45f6-bf45-6cc8afd2f98c",
   "metadata": {
    "scrolled": true
   },
   "outputs": [],
   "source": []
  },
  {
   "cell_type": "code",
   "execution_count": null,
   "id": "9ced049c-c376-46f6-9b9c-21f256f00de8",
   "metadata": {},
   "outputs": [],
   "source": [
    "for x  in range (1,101) :\n",
    "    print(x)\n",
    "print(i)"
   ]
  },
  {
   "cell_type": "code",
   "execution_count": null,
   "id": "4275979b-3246-4e09-969c-6a95c5026221",
   "metadata": {},
   "outputs": [],
   "source": [
    "import re\n",
    "\n",
    "try:\n",
    "    print(\"Login\")\n",
    "    value = input('What is a user..? ')\n",
    "    print(value)\n",
    "    value1 =input('What is a password..? ')\n",
    "    print(value1)\n",
    "    if re.search(r'[#$&@]', value1):\n",
    "        print('You are logged in')\n",
    "    else:\n",
    "        print('You need to log in with codes : #$&@')\n",
    "except SyntaxError:\n",
    "    print('Another login day')\n",
    "print('What kind of marketing vehicle do you need..? ')\n",
    "name={'pen':20 , 'clothes':100 , 'labtob':1000 , 'computer':233}\n",
    "name1=input(f'choose cart {name}')\n",
    "print(name1)\n",
    "print=input('pay online or offline ') , print('The order has been reserved ')"
   ]
  },
  {
   "cell_type": "code",
   "execution_count": null,
   "id": "12df5ff0-f1f9-4265-95dd-fa249a0b6aeb",
   "metadata": {},
   "outputs": [],
   "source": [
    "import re\n",
    "\n",
    "try:\n",
    "    print(\"Login gmail\")\n",
    "    value = input('What is a user..? ')\n",
    "    print(value)\n",
    "    value1 =input('What is a password..? ')\n",
    "    print(value1)\n",
    "    if re.search(r'[#$&@]', value1):\n",
    "        print('You are logged in')\n",
    "    else:\n",
    "        print('You need to log in with codes : #$&@')\n",
    "except SyntaxError:\n",
    "    print('Another login day')\n",
    "print('What kind of marketing vehicle do you need..? ')\n",
    "name={'pen':20 , 'clothes':100 , 'labtob':1000 , 'computer':233 }\n",
    "name1=input(f'choose cart {name}')\n",
    "print(name1)\n",
    "print=input('pay online or offline ') , print('The order has been reserved ')"
   ]
  },
  {
   "cell_type": "code",
   "execution_count": null,
   "id": "33b6d9d6-df76-4add-a570-bb332ea8231f",
   "metadata": {},
   "outputs": [],
   "source": [
    "elements = {\"nasr\":{\"number\":1,\n",
    "                 \"weigth\":103236,\n",
    "                 \"syomth\":\"H\"},\n",
    "            \"helium\":{\"number\":2,\n",
    "                      \"weigth\":1521051,\n",
    "                      \"symbol\":\"HE\"}}\n",
    "elements [\"nasr\"] [\"weigth\"]"
   ]
  },
  {
   "cell_type": "code",
   "execution_count": 7,
   "id": "2c20895b-8d88-45e2-b668-16f0ae932f9a",
   "metadata": {},
   "outputs": [
    {
     "name": "stdout",
     "output_type": "stream",
     "text": [
      "if you can keep your head when all about you are losing thers and blaming it on you    if you can trust yourself when all men doubt you   but make allowance for theri doubting too    if you can wait and not be tired by waiting  \n",
      "\n"
     ]
    }
   ],
   "source": [
    "verse = (\"if you can keep your head when all about you are losing thers and blaming it on you    if you can trust yourself when all men doubt you   but make allowance for theri doubting too    if you can wait and not be tired by waiting \")\n",
    "print(verse,\"\\n\")"
   ]
  },
  {
   "cell_type": "code",
   "execution_count": 19,
   "id": "c0b8847e-9f72-48a8-9379-716f9e6175d2",
   "metadata": {},
   "outputs": [
    {
     "data": {
      "text/plain": [
       "['if',\n",
       " 'you',\n",
       " 'can',\n",
       " 'keep',\n",
       " 'your',\n",
       " 'head',\n",
       " 'when',\n",
       " 'all',\n",
       " 'about',\n",
       " 'you',\n",
       " 'are',\n",
       " 'losing',\n",
       " 'thers',\n",
       " 'and',\n",
       " 'blaming',\n",
       " 'it',\n",
       " 'on',\n",
       " 'you',\n",
       " 'if',\n",
       " 'you',\n",
       " 'can',\n",
       " 'trust',\n",
       " 'yourself',\n",
       " 'when',\n",
       " 'all',\n",
       " 'men',\n",
       " 'doubt',\n",
       " 'you',\n",
       " 'but',\n",
       " 'make',\n",
       " 'allowance',\n",
       " 'for',\n",
       " 'theri',\n",
       " 'doubting',\n",
       " 'too',\n",
       " 'if',\n",
       " 'you',\n",
       " 'can',\n",
       " 'wait',\n",
       " 'and',\n",
       " 'not',\n",
       " 'be',\n",
       " 'tired',\n",
       " 'by',\n",
       " 'waiting']"
      ]
     },
     "execution_count": 19,
     "metadata": {},
     "output_type": "execute_result"
    }
   ],
   "source": [
    "verse.split()"
   ]
  },
  {
   "cell_type": "code",
   "execution_count": 33,
   "id": "0486b430-82a7-4a58-882f-94ceddc50a12",
   "metadata": {},
   "outputs": [
    {
     "data": {
      "text/plain": [
       "{' ',\n",
       " 'a',\n",
       " 'b',\n",
       " 'c',\n",
       " 'd',\n",
       " 'e',\n",
       " 'f',\n",
       " 'g',\n",
       " 'h',\n",
       " 'i',\n",
       " 'k',\n",
       " 'l',\n",
       " 'm',\n",
       " 'n',\n",
       " 'o',\n",
       " 'p',\n",
       " 'r',\n",
       " 's',\n",
       " 't',\n",
       " 'u',\n",
       " 'w',\n",
       " 'y'}"
      ]
     },
     "execution_count": 33,
     "metadata": {},
     "output_type": "execute_result"
    }
   ],
   "source": [
    "set(verse)"
   ]
  },
  {
   "cell_type": "code",
   "execution_count": 57,
   "id": "67553014-715e-460b-941c-5618275707fb",
   "metadata": {},
   "outputs": [
    {
     "data": {
      "text/plain": [
       "227"
      ]
     },
     "execution_count": 57,
     "metadata": {},
     "output_type": "execute_result"
    }
   ],
   "source": [
    "len(verse)"
   ]
  },
  {
   "cell_type": "code",
   "execution_count": null,
   "id": "79fba87c-9830-4724-90a4-e8133e061207",
   "metadata": {},
   "outputs": [
    {
     "name": "stdin",
     "output_type": "stream",
     "text": [
      "what ia a wight 70\n"
     ]
    }
   ],
   "source": [
    "wight=float(input('what ia a wight'))\n",
    "height=float(input('what ia a height'))\n",
    "BMI = wight/height**2\n",
    "if 18.5 <= BMI < 25:\n",
    "    print(\"ia s  normal\")\n",
    "else:\n",
    "    print(\" is a not normal\")"
   ]
  },
  {
   "cell_type": "code",
   "execution_count": 48,
   "id": "3ee98b8a-ba82-441f-9523-b40ac5246857",
   "metadata": {},
   "outputs": [
    {
     "name": "stdout",
     "output_type": "stream",
     "text": [
      "{'if': 3, 'you': 6, 'can': 3, 'keep': 1, 'your': 1, 'head': 1, 'when': 2, 'al 1': 2, 'about': 2, 'are': 1, 'losing': 1, 'theirs': 1, 'and': 3, 'blaming': 1, 'it': 1, 'on': 1, 'trust': 1, 'yourself': 1, 'men': 1, 'doubt': 1, 'but': 1, 'm ake': 1, 'allowance': 1, 'for': 1, 'their': 1, 'doubting': 1, 'too': 3, 'wait': 1, 'not': 1, 'be': 1, 'tired': 1, 'by': 1, 'waiting': 1, 'or': 2, 'being': 2, 'lied': 1, \"don't\": 3, 'deal': 1, 'in': 1, 'lies': 1, 'hated': 1, 'give': 1, 'w ay': 1, 'to': 1, 'hating': 1, 'yet': 1, 'look': 1, 'good': 1, 'nor': 1, 'talk': 1, 'wise': 1} \n",
      "\n"
     ]
    }
   ],
   "source": [
    "verse_dict={'if': 3, 'you': 6, 'can': 3, 'keep': 1, 'your': 1, 'head': 1, 'when': 2, 'al 1': 2, 'about': 2, 'are': 1, 'losing': 1, 'theirs': 1, 'and': 3, 'blaming': 1, 'it': 1, 'on': 1, 'trust': 1, 'yourself': 1, 'men': 1, 'doubt': 1, 'but': 1, 'm ake': 1, 'allowance': 1, 'for': 1, 'their': 1, 'doubting': 1, 'too': 3, 'wait': 1, 'not': 1, 'be': 1, 'tired': 1, 'by': 1, 'waiting': 1, 'or': 2, 'being': 2, 'lied': 1, \"don't\": 3, 'deal': 1, 'in': 1, 'lies': 1, 'hated': 1, 'give': 1, 'w ay': 1, 'to': 1, 'hating': 1, 'yet': 1, 'look': 1, 'good': 1, 'nor': 1, 'talk': 1, 'wise': 1}\n",
    "print(verse_dict,'\\n')"
   ]
  },
  {
   "cell_type": "code",
   "execution_count": 50,
   "id": "85394724-3214-4acf-9021-1b8f47b8e17e",
   "metadata": {},
   "outputs": [
    {
     "data": {
      "text/plain": [
       "{'about',\n",
       " 'al 1',\n",
       " 'allowance',\n",
       " 'and',\n",
       " 'are',\n",
       " 'be',\n",
       " 'being',\n",
       " 'blaming',\n",
       " 'but',\n",
       " 'by',\n",
       " 'can',\n",
       " 'deal',\n",
       " \"don't\",\n",
       " 'doubt',\n",
       " 'doubting',\n",
       " 'for',\n",
       " 'give',\n",
       " 'good',\n",
       " 'hated',\n",
       " 'hating',\n",
       " 'head',\n",
       " 'if',\n",
       " 'in',\n",
       " 'it',\n",
       " 'keep',\n",
       " 'lied',\n",
       " 'lies',\n",
       " 'look',\n",
       " 'losing',\n",
       " 'm ake',\n",
       " 'men',\n",
       " 'nor',\n",
       " 'not',\n",
       " 'on',\n",
       " 'or',\n",
       " 'talk',\n",
       " 'their',\n",
       " 'theirs',\n",
       " 'tired',\n",
       " 'to',\n",
       " 'too',\n",
       " 'trust',\n",
       " 'w ay',\n",
       " 'wait',\n",
       " 'waiting',\n",
       " 'when',\n",
       " 'wise',\n",
       " 'yet',\n",
       " 'you',\n",
       " 'your',\n",
       " 'yourself'}"
      ]
     },
     "execution_count": 50,
     "metadata": {},
     "output_type": "execute_result"
    }
   ],
   "source": [
    "set(verse_dict)"
   ]
  },
  {
   "cell_type": "code",
   "execution_count": 86,
   "id": "c661f8e2-d208-4462-b84f-af7f02aa39a0",
   "metadata": {},
   "outputs": [
    {
     "data": {
      "text/plain": [
       "51"
      ]
     },
     "execution_count": 86,
     "metadata": {},
     "output_type": "execute_result"
    }
   ],
   "source": [
    "len(verse_dict)"
   ]
  },
  {
   "cell_type": "code",
   "execution_count": 90,
   "id": "bbe628ff-b711-498e-a07b-afcaf26095be",
   "metadata": {},
   "outputs": [
    {
     "name": "stdout",
     "output_type": "stream",
     "text": [
      "False\n"
     ]
    }
   ],
   "source": [
    "name='breathe' in verse_dict\n",
    "print(name)"
   ]
  },
  {
   "cell_type": "code",
   "execution_count": null,
   "id": "f68549fc-b7bc-40b4-a3da-e44d9a3008dd",
   "metadata": {},
   "outputs": [],
   "source": [
    "age='you' in verse_dict\n",
    "print(age)"
   ]
  },
  {
   "cell_type": "code",
   "execution_count": null,
   "id": "4649e56a-d487-428f-93e9-5bcdbb6b1c26",
   "metadata": {},
   "outputs": [],
   "source": [
    "number=[]\n",
    "num=1\n",
    "total_sum = 0\n",
    "\n",
    "while total_sum <=200 :\n",
    "    number.append(curret)\n",
    "    total_sum+=curret\n",
    "    curret+=1\n",
    "print(\"list of numbers: \",number)\n",
    "print(\"total sum: \", total_sum)"
   ]
  },
  {
   "cell_type": "code",
   "execution_count": null,
   "id": "a483e2c8-b13f-4846-812e-3e4b235ddbea",
   "metadata": {},
   "outputs": [],
   "source": []
  }
 ],
 "metadata": {
  "kernelspec": {
   "display_name": "Python 3 (ipykernel)",
   "language": "python",
   "name": "python3"
  },
  "language_info": {
   "codemirror_mode": {
    "name": "ipython",
    "version": 3
   },
   "file_extension": ".py",
   "mimetype": "text/x-python",
   "name": "python",
   "nbconvert_exporter": "python",
   "pygments_lexer": "ipython3",
   "version": "3.12.7"
  }
 },
 "nbformat": 4,
 "nbformat_minor": 5
}
